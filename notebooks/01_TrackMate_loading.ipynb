{
 "cells": [
  {
   "cell_type": "markdown",
   "metadata": {
    "collapsed": true
   },
   "source": [
    "This is a testing notebook for loading and analyzing the output of ImageJ's TrackMate plugin (https://imagej.net/TrackMate). The plugin outputs a wealth of data in XML format, and this set of scripts provides an interface for loading and analyzing these data in Python."
   ]
  },
  {
   "cell_type": "code",
   "execution_count": null,
   "metadata": {
    "collapsed": false
   },
   "outputs": [],
   "source": [
    "import numpy as np\n",
    "import matplotlib.pylab as plt\n",
    "from os import path\n",
    "from xml.dom import minidom\n",
    "\n",
    "# Path to raw TrackMate data\n",
    "data_dir = '../data/raw/test_dataset_1'\n",
    "file_name = 'MMStack_Pos0.ome.test1.xml'\n",
    "\n",
    "# Read data from the provided source file\n",
    "full_path = path.join(data_dir, file_name)\n",
    "full_file = minidom.parse(full_path)\n"
   ]
  },
  {
   "cell_type": "markdown",
   "metadata": {},
   "source": [
    "The following cell contains common functions that help parse the raw data read out of the TrackMate xml files."
   ]
  },
  {
   "cell_type": "code",
   "execution_count": null,
   "metadata": {
    "collapsed": false
   },
   "outputs": [],
   "source": [
    "def pull_property_by_track(prop_name, all_spot_ids, all_spots):\n",
    "    # Gather any (numerical) spot property for each track\n",
    "    # 'prop_name' must be a valid key for 'all_spots'\n",
    "    all_track_property = list() # stores numpy arrays of values\n",
    "    for spot_ids in all_spot_ids:\n",
    "        curr_prop_values = np.empty(len(spot_ids), dtype=float)\n",
    "        for i, spot_id in enumerate(spot_ids):\n",
    "            spot_ind = spot_id[1]\n",
    "            curr_prop_values[i] = all_spots[spot_ind][prop_name]    \n",
    "        all_track_property.append(curr_prop_values)\n",
    "    return all_track_property\n",
    "\n",
    "def build_spot_lists_by_track(tracks_raw, all_spots):\n",
    "    # Build x,y spot coordinates for each track\n",
    "    # 'all_tracks' and 'all_spots' are lists of dictionaries directly\n",
    "    # from the output of the TrackMate plugin\n",
    "    \n",
    "    # Build an array of spot indices\n",
    "    spot_ids = np.empty([len(spots)], dtype=int)\n",
    "    for i, spot in enumerate(all_spots):\n",
    "        spot_ids[i] = int(spot['ID'])\n",
    "    \n",
    "    all_track_edges = list()\n",
    "    all_track_coords = list() # stores numpy arrays of x,y,t coords\n",
    "    all_track_spot_ids = list() # stores spot IDs and indices for each track\n",
    "    for track_raw in tracks_raw:\n",
    "        curr_edges = track_raw.getElementsByTagName('Edge')\n",
    "        track_name = track_raw.getAttribute('name')\n",
    "        edges = list()\n",
    "        for edge in curr_edges:\n",
    "            edge_dict = dict(edge.attributes.items())\n",
    "            edge_dict['track_name'] = track_name\n",
    "            edges.append(edge_dict)\n",
    "\n",
    "        edges.sort(key=lambda k: float(k['EDGE_TIME']))\n",
    "        # build spot list\n",
    "        num_spots = len(edges) + 1\n",
    "        track_coords = np.empty([num_spots, 3], dtype=float) # x,y,t\n",
    "        track_spot_ids = np.empty([num_spots, 2], dtype=int)\n",
    "        for i in range(num_spots):\n",
    "            if i==(num_spots-1): # get coords of last spot\n",
    "                edge = edges[i-1]\n",
    "                spot_id = int(edge['SPOT_TARGET_ID'])\n",
    "            else:\n",
    "                edge = edges[i]\n",
    "                spot_id = int(edge['SPOT_SOURCE_ID'])\n",
    "            spot_ind = np.where(spot_ids==spot_id)[0][0]\n",
    "\n",
    "            track_spot_ids[i][0] = spot_id\n",
    "            track_spot_ids[i][1] = spot_ind\n",
    "\n",
    "            track_coords[i][0] = spots[spot_ind]['POSITION_X']\n",
    "            track_coords[i][1] = spots[spot_ind]['POSITION_Y']\n",
    "            track_coords[i][2] = spots[spot_ind]['POSITION_T']\n",
    "\n",
    "        all_track_edges.append(edges)\n",
    "        all_track_coords.append(track_coords)\n",
    "        all_track_spot_ids.append(track_spot_ids)\n",
    "    \n",
    "    processed_tracks = (all_track_coords, all_track_edges, \n",
    "                            all_track_spot_ids)\n",
    "    return processed_tracks"
   ]
  },
  {
   "cell_type": "code",
   "execution_count": null,
   "metadata": {
    "collapsed": false
   },
   "outputs": [],
   "source": [
    "# Parse the data into tracks, creating lists of spots that\n",
    "# make up each individual track (TrackMate assigns a unique\n",
    "# spot ID to each spot in each frame, and their connections\n",
    "# into multi-frame tracks are stored as 'Edge' elements)\n",
    "\n",
    "# Convert the raw track data to a list of dictionaries\n",
    "tracks = list()\n",
    "tracks_raw = full_file.getElementsByTagName(\"Track\")\n",
    "for track_raw in tracks_raw:\n",
    "    att = dict(track_raw.attributes.items())\n",
    "    tracks.append(att)\n",
    "\n",
    "# Compile a complete list of spots as a list of dictionaries\n",
    "spots = list()\n",
    "spots_by_frame = full_file.getElementsByTagName(\"SpotsInFrame\")\n",
    "for spots_curr_frame in spots_by_frame:\n",
    "    curr_spots = spots_curr_frame.getElementsByTagName(\"Spot\")\n",
    "    for spot in curr_spots:\n",
    "        att = dict(spot.attributes.items())\n",
    "        spots.append(att)\n",
    "\n",
    "\n",
    "processed_tracks = build_spot_lists_by_track(tracks_raw, spots)\n",
    "track_coords, track_edges, track_spot_ids = processed_tracks\n",
    "\n",
    "all_track_intensities = pull_property_by_track('MEAN_INTENSITY',\n",
    "                                               track_spot_ids, spots)"
   ]
  },
  {
   "cell_type": "code",
   "execution_count": null,
   "metadata": {
    "collapsed": false
   },
   "outputs": [],
   "source": [
    "# Calculate MSD for each particle\n",
    "from scipy import stats\n",
    "\n",
    "t_dsq = list() # time vs sq. displacement for each particle\n",
    "for track in track_coords:\n",
    "    # 'track' is an array of x,y,t\n",
    "    \n",
    "    track_norm = track - track[0,:] # set x,y,t=0\n",
    "    xy_sq = np.square(track_norm[:,0:2])\n",
    "    d_sq = np.sum(xy_sq, axis=1)\n",
    "    t = track_norm[:,2]\n",
    "    tds = np.vstack((t, d_sq))\n",
    "    tds = np.transpose(tds)\n",
    "    \n",
    "    t_dsq.append(tds)\n",
    "\n",
    "# rebuild results as a padded numpy array for calculating means\n",
    "l_max = max((len(el) for el in t_dsq))\n",
    "\n",
    "d_sq = np.empty((l_max, len(t_dsq)))\n",
    "t_total = np.empty((l_max, len(t_dsq)))\n",
    "for i, x in enumerate(t_dsq):\n",
    "    len1 = x.shape[0]\n",
    "    pad_len = l_max - len1\n",
    "    nanpad = np.empty([pad_len,2])*np.nan\n",
    "    x_padded = np.concatenate((x,nanpad), axis=0)\n",
    "    \n",
    "    d_sq[:,i] = x_padded[:,1]\n",
    "    t_total[:,i] = x_padded[:,0]\n",
    "print(d_sq)\n",
    "mean_t = np.nanmean(t_total, axis=1)\n",
    "mean_dsq = np.nanmean(d_sq, axis=1)\n",
    "std_dsq = np.nanstd(d_sq, axis=1)\n",
    "sterr_dsq = stats.sem(d_sq, axis=1, nan_policy='omit',ddof=0)\n",
    "print(mean_t)\n",
    "\n",
    "# Plot results\n",
    "f1, axarr = plt.subplots(1,2)\n",
    "axarr[0].set_title('All tracks')\n",
    "axarr[0].set_xlabel('Time (s)')\n",
    "axarr[0].set_ylabel('Position (μm)')\n",
    "axarr[1].set_title('Mean squared displacements')\n",
    "axarr[1].set_xlabel('Time (s)')\n",
    "axarr[1].set_ylabel('MSD (μm^2)')\n",
    "for x in t_dsq:\n",
    "    axarr[0].plot(x[:,0], x[:,1])\n",
    "\n",
    "\n",
    "axarr[1].errorbar(mean_t, mean_dsq, yerr=sterr_dsq, fmt='o')\n",
    "#axarr[1].plot(mean_t, mean_dsq)\n",
    "\n",
    "plt.show()"
   ]
  },
  {
   "cell_type": "code",
   "execution_count": null,
   "metadata": {
    "collapsed": false
   },
   "outputs": [],
   "source": [
    "# Plot some useful stuff\n",
    "\n",
    "%matplotlib\n",
    "#%matplotlib inline\n",
    "import matplotlib.pylab as plt\n",
    "#plt.xkcd()\n",
    "\n",
    "# Various plotting tools\n",
    "f2, axarr = plt.subplots(1,2)\n",
    "axarr[0].set_title('All tracks')\n",
    "axarr[0].set_xlabel('Position (μm)')\n",
    "axarr[0].set_ylabel('Position (μm)')\n",
    "axarr[1].set_xlabel('Time (s)')\n",
    "axarr[1].set_ylabel('Intensity (A.U.)')\n",
    "axarr[1].set_title('All intensities')\n",
    "for i, track in enumerate(track_coords):\n",
    "    axarr[0].plot(track[:,0], track[:,1])\n",
    "    axarr[1].plot(track[:,2], all_track_intensities[i])\n",
    "plt.show()\n",
    "#plt.plot(track_coords[testind][:,2], all_track_intensities[testind])"
   ]
  },
  {
   "cell_type": "code",
   "execution_count": null,
   "metadata": {
    "collapsed": true
   },
   "outputs": [],
   "source": []
  }
 ],
 "metadata": {
  "anaconda-cloud": {},
  "kernelspec": {
   "display_name": "Python [default]",
   "language": "python",
   "name": "python3"
  },
  "language_info": {
   "codemirror_mode": {
    "name": "ipython",
    "version": 3
   },
   "file_extension": ".py",
   "mimetype": "text/x-python",
   "name": "python",
   "nbconvert_exporter": "python",
   "pygments_lexer": "ipython3",
   "version": "3.5.2"
  }
 },
 "nbformat": 4,
 "nbformat_minor": 2
}
