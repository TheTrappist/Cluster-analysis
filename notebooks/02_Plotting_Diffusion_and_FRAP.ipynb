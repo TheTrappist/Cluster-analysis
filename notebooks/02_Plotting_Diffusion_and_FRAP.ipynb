{
 "cells": [
  {
   "cell_type": "markdown",
   "metadata": {
    "collapsed": true
   },
   "source": [
    "This is a testing notebook for loading and analyzing the output of ImageJ's TrackMate plugin (https://imagej.net/TrackMate). The plugin outputs a wealth of data in XML format, and this set of scripts provides an interface for loading and analyzing these data in Python."
   ]
  },
  {
   "cell_type": "code",
   "execution_count": null,
   "metadata": {
    "collapsed": false
   },
   "outputs": [],
   "source": [
    "# load the custom module\n",
    "%load_ext autoreload\n",
    "%autoreload 2\n",
    "\n",
    "import os, sys, inspect\n",
    "import matplotlib.pylab as plt\n",
    "import numpy as np\n",
    "\n",
    "# Add source code directory to path to enable module import\n",
    "curr_frame = inspect.getfile(inspect.currentframe())\n",
    "curr_dir = os.path.dirname(os.path.abspath(curr_frame))\n",
    "parent_dir = os.path.dirname(curr_dir)\n",
    "module_dir = os.path.join(parent_dir, 'src')\n",
    "os.sys.path.insert(0, module_dir)\n",
    "\n",
    "import parse_trackmate as pt\n"
   ]
  },
  {
   "cell_type": "code",
   "execution_count": null,
   "metadata": {
    "collapsed": true
   },
   "outputs": [],
   "source": [
    "# Load test data\n",
    "\n",
    "# Path to raw TrackMate data\n",
    "data_dir = '../data/raw/test_dataset_1'\n",
    "file_name = 'MMStack_Pos0.ome.test1.xml'\n",
    "full_file = os.path.join(data_dir, file_name)\n",
    "\n",
    "# Read data from the provided source file\n",
    "raw_data = pt.read_trackmate_file(full_file)"
   ]
  },
  {
   "cell_type": "code",
   "execution_count": null,
   "metadata": {
    "collapsed": false
   },
   "outputs": [],
   "source": [
    "# Parse the data into tracks, creating lists of spots that\n",
    "# make up each individual track \n",
    "\n",
    "raw_tracks = pt.get_raw_tracks(raw_data)\n",
    "spots = pt.list_spots(raw_data)\n",
    "\n",
    "processed_tracks = pt.build_spot_lists_by_track(raw_tracks, spots)\n",
    "track_coords, track_edges, track_spot_ids = processed_tracks\n",
    "\n",
    "all_track_intensities = pt.pull_property_by_track('MEAN_INTENSITY',\n",
    "                                               track_spot_ids, spots)"
   ]
  },
  {
   "cell_type": "code",
   "execution_count": null,
   "metadata": {
    "collapsed": false
   },
   "outputs": [],
   "source": [
    "# Calculate MSD for each particle\n",
    "from scipy import stats\n",
    "%matplotlib\n",
    "\n",
    "t_dsq = list() # time vs sq. displacement for each particle\n",
    "for track in track_coords:\n",
    "    # 'track' is an array of x,y,t\n",
    "    \n",
    "    track_norm = track - track[0,:] # set x,y,t=0\n",
    "    xy_sq = np.square(track_norm[:,0:2])\n",
    "    d_sq = np.sum(xy_sq, axis=1)\n",
    "    t = track_norm[:,2]\n",
    "    tds = np.vstack((t, d_sq))\n",
    "    tds = np.transpose(tds)\n",
    "    \n",
    "    t_dsq.append(tds)\n",
    "\n",
    "# rebuild results as a padded numpy array for calculating means\n",
    "l_max = max((len(el) for el in t_dsq))\n",
    "\n",
    "d_sq = np.empty((l_max, len(t_dsq)))\n",
    "t_total = np.empty((l_max, len(t_dsq)))\n",
    "for i, x in enumerate(t_dsq):\n",
    "    len1 = x.shape[0]\n",
    "    pad_len = l_max - len1\n",
    "    nanpad = np.empty([pad_len,2])*np.nan\n",
    "    x_padded = np.concatenate((x,nanpad), axis=0)\n",
    "    \n",
    "    d_sq[:,i] = x_padded[:,1]\n",
    "    t_total[:,i] = x_padded[:,0]\n",
    "    \n",
    "mean_t = np.nanmean(t_total, axis=1)\n",
    "mean_dsq = np.nanmean(d_sq, axis=1)\n",
    "std_dsq = np.nanstd(d_sq, axis=1)\n",
    "sterr_dsq = stats.sem(d_sq, axis=1, nan_policy='omit',ddof=0)\n",
    "\n",
    "# Plot results\n",
    "f1, axarr = plt.subplots(1,2)\n",
    "axarr[0].set_title('All tracks')\n",
    "axarr[0].set_xlabel('Time (s)')\n",
    "axarr[0].set_ylabel('Position (μm)')\n",
    "axarr[1].set_title('Mean squared displacements')\n",
    "axarr[1].set_xlabel('Time (s)')\n",
    "axarr[1].set_ylabel('MSD (μm^2)')\n",
    "for x in t_dsq:\n",
    "    axarr[0].plot(x[:,0], x[:,1])\n",
    "\n",
    "\n",
    "axarr[1].errorbar(mean_t, mean_dsq, yerr=sterr_dsq, fmt='o')\n",
    "#axarr[1].plot(mean_t, mean_dsq)\n",
    "\n",
    "plt.show()"
   ]
  },
  {
   "cell_type": "code",
   "execution_count": null,
   "metadata": {
    "collapsed": false
   },
   "outputs": [],
   "source": [
    "# Plot some useful stuff\n",
    "\n",
    "\n",
    "#%matplotlib inline\n",
    "import matplotlib.pylab as plt\n",
    "#plt.xkcd()\n",
    "\n",
    "# Various plotting tools\n",
    "f2, axarr = plt.subplots(1,2)\n",
    "axarr[0].set_title('All tracks')\n",
    "axarr[0].set_xlabel('Position (μm)')\n",
    "axarr[0].set_ylabel('Position (μm)')\n",
    "axarr[1].set_xlabel('Time (s)')\n",
    "axarr[1].set_ylabel('Intensity (A.U.)')\n",
    "axarr[1].set_title('All intensities')\n",
    "for i, track in enumerate(track_coords):\n",
    "    axarr[0].plot(track[:,0], track[:,1])\n",
    "    axarr[1].plot(track[:,2], all_track_intensities[i])\n",
    "plt.show()\n",
    "#plt.plot(track_coords[testind][:,2], all_track_intensities[testind])"
   ]
  },
  {
   "cell_type": "code",
   "execution_count": null,
   "metadata": {
    "collapsed": true
   },
   "outputs": [],
   "source": []
  }
 ],
 "metadata": {
  "anaconda-cloud": {},
  "kernelspec": {
   "display_name": "Python [default]",
   "language": "python",
   "name": "python3"
  },
  "language_info": {
   "codemirror_mode": {
    "name": "ipython",
    "version": 3
   },
   "file_extension": ".py",
   "mimetype": "text/x-python",
   "name": "python",
   "nbconvert_exporter": "python",
   "pygments_lexer": "ipython3",
   "version": "3.5.2"
  }
 },
 "nbformat": 4,
 "nbformat_minor": 2
}
