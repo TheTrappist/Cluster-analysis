{
 "cells": [
  {
   "cell_type": "markdown",
   "metadata": {
    "collapsed": true
   },
   "source": [
    "This is a testing notebook for processing IRE1 cluster data based on CSV output files from Cell Profiler."
   ]
  },
  {
   "cell_type": "code",
   "execution_count": null,
   "metadata": {},
   "outputs": [],
   "source": [
    "# load modules\n",
    "\n",
    "# uncomment for debugging\n",
    "%load_ext autoreload\n",
    "%autoreload 2\n",
    "%matplotlib\n",
    "\n",
    "import os, sys, inspect\n",
    "import matplotlib.pylab as plt\n",
    "import numpy as np\n",
    "import pandas as pd\n",
    "import pprint\n",
    "import re\n",
    "import time\n",
    "import seaborn as sns\n",
    "import warnings\n",
    "\n",
    "\n",
    "# Disable future warnings for seaborn\n",
    "warnings.simplefilter(action='ignore', category=FutureWarning)\n",
    "\n",
    "\n",
    "# Add source code directory (src) to path to enable module import\n",
    "curr_frame = inspect.getfile(inspect.currentframe())\n",
    "curr_dir = os.path.dirname(os.path.abspath(curr_frame))\n",
    "parent_dir = os.path.dirname(curr_dir)\n",
    "module_dir = os.path.join(parent_dir, 'src')\n",
    "os.sys.path.insert(0, module_dir)\n",
    "\n",
    "import cellprofiler_tools as cpt\n"
   ]
  },
  {
   "cell_type": "code",
   "execution_count": null,
   "metadata": {
    "scrolled": true
   },
   "outputs": [],
   "source": [
    "# Load data from CSV files\n",
    "data_dir = '../data/processed/CellProfiler_FociQuant03/csv_outputs'\n",
    "\n",
    "image_file_csv = 'FociQuant03_Image.csv'\n",
    "er_masks_csv = 'FociQuant03_ER_masks_accepted.csv'\n",
    "ire1_clust_csv = 'FociQuant03_IRE1_clusters.csv'\n",
    "\n",
    "\n",
    "# Load the image file\n",
    "image_full_file = os.path.join(data_dir, image_file_csv)\n",
    "images = cpt.get_data_cp_csv(image_full_file)\n",
    "#images = cpt.get_data_cp_csv(image_full_file, data_fields=['ImageNumber','FileName_DNA_DAPI'])\n",
    "\n",
    "er_masks = cpt.get_data_cp_csv(os.path.join(data_dir, er_masks_csv))\n",
    "ire1_clust = cpt.get_data_cp_csv(os.path.join(data_dir, ire1_clust_csv))\n",
    "\n",
    "print('Loaded')"
   ]
  },
  {
   "cell_type": "code",
   "execution_count": null,
   "metadata": {},
   "outputs": [],
   "source": [
    "# Plot fraction of cells with clusters per condition\n",
    "condition = 'Metadata_hours_Tm'\n",
    "\n",
    "# Create a dataframe for all cells that are included in the analysis\n",
    "cells = er_masks.copy()\n",
    "cells.index.name = 'Cell_ID'\n",
    "\n",
    "cpt.add_image_prop_to_cells (cells, images, condition)\n",
    "\n",
    "cells['Has_IRE1_clusters'] = cells['Children_IRE1_clusters_Count'].astype('bool')\n",
    "\n",
    "frac_clust = cpt.bootstrap_cell_prop (cells, 'Has_IRE1_clusters', condition)\n",
    "\n",
    "ax = sns.barplot(data=frac_clust, color='steelblue', ci=\"sd\")\n",
    "ax.set_title('Formation and dissolution of IRE1 clusters in stressed cells')\n",
    "ax.set_xlabel('Hours of Tm treatment')\n",
    "ax.set_ylabel('Fraction of cells with clusters')\n",
    "ax.set_ylim(bottom=0)\n",
    "plt.show()"
   ]
  },
  {
   "cell_type": "code",
   "execution_count": null,
   "metadata": {},
   "outputs": [],
   "source": [
    "# Plot cluster properties per cell\n",
    "\n",
    "#prop = 'AreaShape_Compactness'\n",
    "#prop = 'AreaShape_Area'\n",
    "prop = 'Intensity_IntegratedIntensity_IRE1_mNeonGreen'\n",
    "stat='sum'\n",
    "\n",
    "result_name = 'IRE1_clust_'+prop+'_'+stat\n",
    "rel_col = 'Parent_ER_masks_accepted'\n",
    "condition = 'Metadata_hours_Tm'\n",
    "\n",
    "\n",
    "cpt.add_child_prop_to_cells (cells, ire1_clust, prop, rel_col, \n",
    "                             result_name, statistic=stat)\n",
    "cells_valid = cells.dropna()\n",
    "\n",
    "result = cpt.bootstrap_cell_prop (cells_valid, result_name, condition)\n",
    "\n",
    "\n",
    "ax = sns.barplot(data=result, color='steelblue', ci=\"sd\")\n",
    "ax.set_title(result_name)\n",
    "ax.set_xlabel(condition)\n",
    "ax.set_ylabel(result_name)\n",
    "ax.set_ylim(bottom=0)\n",
    "plt.show()"
   ]
  },
  {
   "cell_type": "code",
   "execution_count": null,
   "metadata": {},
   "outputs": [],
   "source": [
    "# Plot number of cluster per cell for cells that have clusters\n",
    "\n",
    "result_name = 'Children_IRE1_clusters_Count'\n",
    "condition = 'Metadata_hours_Tm'\n",
    "\n",
    "cells_valid = cells.dropna()\n",
    "\n",
    "result = cpt.bootstrap_cell_prop (cells_valid, result_name, condition)\n",
    "\n",
    "ax = sns.barplot(data=result, color='steelblue', ci=\"sd\")\n",
    "ax.set_title(result_name)\n",
    "ax.set_xlabel(condition)\n",
    "ax.set_ylabel(result_name)\n",
    "ax.set_ylim(bottom=0)\n",
    "plt.show()\n",
    "\n"
   ]
  },
  {
   "cell_type": "code",
   "execution_count": null,
   "metadata": {},
   "outputs": [],
   "source": [
    "\"\"\"\n",
    "# Uncomment for a quick timer\n",
    "start = time.time()\n",
    "print(\"Start timer\")\n",
    "\n",
    "end = time.time()\n",
    "print(end - start)\n",
    "\"\"\"\n",
    "\n",
    "string = 'C1-AVG_vVB_190416_03_Well03_02hTm_1_MMStack_Pos0.ome.tif'\n",
    "\n",
    "\n",
    "z = re.match(r\".*_(\\d+)hTm_.*\", string)\n",
    "\n",
    "print(z.group(1))\n",
    "\n"
   ]
  }
 ],
 "metadata": {
  "anaconda-cloud": {},
  "kernelspec": {
   "display_name": "Python 3",
   "language": "python",
   "name": "python3"
  },
  "language_info": {
   "codemirror_mode": {
    "name": "ipython",
    "version": 3
   },
   "file_extension": ".py",
   "mimetype": "text/x-python",
   "name": "python",
   "nbconvert_exporter": "python",
   "pygments_lexer": "ipython3",
   "version": "3.7.3"
  }
 },
 "nbformat": 4,
 "nbformat_minor": 2
}
