{
 "cells": [
  {
   "cell_type": "markdown",
   "metadata": {
    "collapsed": true
   },
   "source": [
    "This is a testing notebook for processing IRE1 cluster data based on an HDF5 output file from Cell Profiler."
   ]
  },
  {
   "cell_type": "code",
   "execution_count": 1,
   "metadata": {},
   "outputs": [
    {
     "name": "stdout",
     "output_type": "stream",
     "text": [
      "Using matplotlib backend: Qt5Agg\n"
     ]
    }
   ],
   "source": [
    "# load modules\n",
    "\n",
    "# uncomment for debugging\n",
    "%load_ext autoreload\n",
    "%autoreload 2\n",
    "%matplotlib\n",
    "\n",
    "import os, sys, inspect\n",
    "import matplotlib.pylab as plt\n",
    "import numpy as np\n",
    "import pandas as pd\n",
    "import h5py\n",
    "import re\n",
    "from pprint import pprint\n",
    "import time\n",
    "import seaborn as sns\n",
    "import warnings\n",
    "\n",
    "\n",
    "# Disable future warnings for seaborn\n",
    "warnings.simplefilter(action='ignore', category=FutureWarning)\n",
    "\n",
    "\n",
    "# Add source code directory (src) to path to enable module import\n",
    "curr_frame = inspect.getfile(inspect.currentframe())\n",
    "curr_dir = os.path.dirname(os.path.abspath(curr_frame))\n",
    "parent_dir = os.path.dirname(curr_dir)\n",
    "module_dir = os.path.join(parent_dir, 'src')\n",
    "os.sys.path.insert(0, module_dir)\n",
    "\n",
    "import cellprofiler_tools as cpt\n"
   ]
  },
  {
   "cell_type": "code",
   "execution_count": 2,
   "metadata": {
    "scrolled": true
   },
   "outputs": [
    {
     "name": "stdout",
     "output_type": "stream",
     "text": [
      "loaded\n"
     ]
    }
   ],
   "source": [
    "# Load any required data from HDF5 file\n",
    "# Path to raw HDF5 file\n",
    "data_dir = '../data/processed/CellProfiler_IRE1clusters_test'\n",
    "file_name = 'ClusterQuant__1.h5'\n",
    "full_file = os.path.join(data_dir, file_name)\n",
    "\n",
    "\n",
    "images = cpt.get_data_cp_hdf5(full_file, obj='Image',data_fields=['ImageNumber','FileName_DNA_DAPI'])\n",
    "#er_filt = cpt.get_data_cp_hdf5(full_file, obj='ER_masks_filtered',data_fields=[])\n",
    "er_masks = cpt.get_data_cp_hdf5(full_file, obj='ER_masks',data_fields=[])\n",
    "ire1_clust = cpt.get_data_cp_hdf5(full_file, obj='IRE1_clusters',data_fields=[])\n",
    "\n",
    "rel_masksfilt_clust = cpt.get_relationship_cp_hdf5(full_file, \"ER_masks_filtered\", \"IRE1_clusters\")\n",
    "rel_masksfilt_nuclei = cpt.get_relationship_cp_hdf5(full_file, \"ER_masks_filtered\", \"Nuclei\")\n",
    "rel_nuclei_masks = cpt.get_relationship_cp_hdf5(full_file, \"Nuclei\", \"ER_masks\")\n",
    "\n",
    "print(\"loaded\")\n"
   ]
  },
  {
   "cell_type": "code",
   "execution_count": 4,
   "metadata": {},
   "outputs": [
    {
     "data": {
      "image/png": "[encoded data removed]",
      "text/plain": [
       "<Figure size 432x288 with 1 Axes>"
      ]
     },
     "metadata": {
      "needs_background": "light"
     },
     "output_type": "display_data"
    }
   ],
   "source": [
    "# Plot fraction of cells with clusters per condition\n",
    "\n",
    "# Create a dataframe for all cells that are included in the analysis\n",
    "m_n_sorted = rel_masksfilt_nuclei.sort_values(by=['ImageNumber_First', 'ObjectNumber_Second'])\n",
    "cells = m_n_sorted.loc[:,('ImageNumber_Second', 'ObjectNumber_Second')]\n",
    "cells.reset_index(drop=True, inplace=True)\n",
    "cells.index.name = 'Cell_ID'\n",
    "\n",
    "cells.rename(columns={'ImageNumber_Second':'ImgNum',\n",
    "                     'ObjectNumber_Second':\"NucleusNum\"}, inplace=True)\n",
    "\n",
    "\n",
    "# Establish relationships between cell nuclei, ER masks objects, and IRE1 clusters\n",
    "mask_ids = []\n",
    "clust_ids = []\n",
    "hours_tm = [] # hours of tunicamycin treatment\n",
    "positions = []\n",
    "img_names = []\n",
    "for index, cell in cells.iterrows():\n",
    "    \n",
    "    # Get ID of ER mask associated with each cell\n",
    "    er_mask_id = rel_nuclei_masks.loc[((rel_nuclei_masks['ImageNumber_First'] == cell['ImgNum']) \n",
    "                & (rel_nuclei_masks['ObjectNumber_First'] == cell['NucleusNum'])),'ObjectNumber_Second']\n",
    "    er_mask = er_mask_id.iat[0]\n",
    "    \n",
    "    # Get ID of IRE1 clusters associated with each cell\n",
    "    ire_clust_id = rel_masksfilt_clust.loc[((rel_masksfilt_clust['ImageNumber_First'] == cell['ImgNum']) \n",
    "                & (rel_masksfilt_clust['ObjectNumber_First'] == er_mask)),'ObjectNumber_Second']\n",
    "    \n",
    "    # Parse the tunicamycin treatment duration from file name\n",
    "    img_name = images.loc[images['ImageNumber'] == cell['ImgNum'], 'FileName_DNA_DAPI']\n",
    "    img_name = img_name.iat[0].decode(\"utf-8\")\n",
    "    hrs_tm_match = re.match(r\".*_(\\d+)hTm_.*\", img_name)\n",
    "    pos_match = re.match(r\".*_Pos(\\d+).*\", img_name)\n",
    "    pos = pos_match.group(1)\n",
    "    hrs_tm = hrs_tm_match.group(1)\n",
    "    \n",
    "    mask_ids.append(er_mask)\n",
    "    clust_ids.append(list(ire_clust_id))\n",
    "    hours_tm.append(hrs_tm)\n",
    "    positions.append(pos)\n",
    "    img_names.append(img_name)\n",
    "    \n",
    "cells['ER_MaskNum'] = mask_ids\n",
    "cells['IRE1_clust_IDs'] = clust_ids\n",
    "cells['Hrs_Tm'] = hours_tm\n",
    "cells['ImgName'] = img_names\n",
    "cells['Position'] = positions\n",
    "cells['NumClusters'] = [len(row.IRE1_clust_IDs) for row in cells.itertuples()]\n",
    "\n",
    "\n",
    "fraction_clust = {}\n",
    "bootstrap_nreps = 1000\n",
    "conditions_unique = cells['Hrs_Tm'].unique()\n",
    "\n",
    "for condition in conditions_unique:\n",
    "    cells_in_cond = cells.loc[cells['Hrs_Tm'] == condition]\n",
    "    total_cells = len(cells_in_cond)\n",
    "    \n",
    "    # Bootstrap the samples to estimate uncertainties\n",
    "    metric = []\n",
    "    for i in range(bootstrap_nreps):\n",
    "        subsamp_cells = np.random.choice(list(cells_in_cond['NumClusters']), total_cells)\n",
    "        num_cells_with_clust = np.count_nonzero(subsamp_cells)\n",
    "        fraction_with_clust = num_cells_with_clust / total_cells\n",
    "        metric.append(fraction_with_clust)\n",
    "    \n",
    "    fraction_clust.update({condition : metric})\n",
    "\n",
    "frac_clust = pd.DataFrame(data=fraction_clust)\n",
    "\n",
    "ax = sns.barplot(data=frac_clust, color='steelblue', ci=\"sd\")\n",
    "ax.set_title('Formation and dissolution of IRE1 clusters in stressed cells')\n",
    "ax.set_xlabel('Hours of Tm treatment')\n",
    "ax.set_ylabel('Fraction of cells with clusters')\n",
    "ax.set_ylim(bottom=0)\n",
    "plt.show()"
   ]
  },
  {
   "cell_type": "code",
   "execution_count": null,
   "metadata": {
    "scrolled": true
   },
   "outputs": [],
   "source": [
    "# Load test data\n",
    "# Path to raw HDF5 file\n",
    "data_dir = '../data/processed/CellProfiler_IRE1clusters_test'\n",
    "file_name = 'ClusterQuant__1.h5'\n",
    "full_file = os.path.join(data_dir, file_name)\n",
    "\n",
    "\n",
    "#df = cpt.get_data_cp_hdf5(full_file, obj='Image',data_fields=[])\n",
    "\n",
    "df_rel = cpt.get_relationship_cp_hdf5(full_file, \"ER_masks_filtered\", \"IRE1_clusters\")\n",
    "\n",
    "\n",
    "#print(df[['ImageNumber','ObjectNumber', 'AreaShape_Area']])\n",
    "#print(df)\n",
    "print(df_rel)\n"
   ]
  },
  {
   "cell_type": "code",
   "execution_count": null,
   "metadata": {},
   "outputs": [],
   "source": [
    "\"\"\"\n",
    "# Uncomment for a quick timer\n",
    "start = time.time()\n",
    "print(\"Start timer\")\n",
    "\n",
    "end = time.time()\n",
    "print(end - start)\n",
    "\"\"\""
   ]
  },
  {
   "cell_type": "code",
   "execution_count": null,
   "metadata": {},
   "outputs": [],
   "source": [
    "string = 'C1-AVG_vVB_190416_03_Well03_02hTm_1_MMStack_Pos0.ome.tif'\n",
    "\n",
    "\n",
    "z = re.match(r\".*_(\\d+)hTm_.*\", string)\n",
    "\n",
    "print(z.group(1))\n",
    "\n"
   ]
  }
 ],
 "metadata": {
  "anaconda-cloud": {},
  "kernelspec": {
   "display_name": "Python [default]",
   "language": "python",
   "name": "python3"
  },
  "language_info": {
   "codemirror_mode": {
    "name": "ipython",
    "version": 3
   },
   "file_extension": ".py",
   "mimetype": "text/x-python",
   "name": "python",
   "nbconvert_exporter": "python",
   "pygments_lexer": "ipython3",
   "version": "3.5.6"
  }
 },
 "nbformat": 4,
 "nbformat_minor": 2
}
