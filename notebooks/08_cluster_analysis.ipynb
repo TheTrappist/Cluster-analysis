{
 "cells": [
  {
   "cell_type": "markdown",
   "metadata": {
    "collapsed": true
   },
   "source": [
    "This is a testing notebook for processing IRE1 cluster data based on an HDF5 output file from Cell Profiler."
   ]
  },
  {
   "cell_type": "code",
   "execution_count": null,
   "metadata": {},
   "outputs": [],
   "source": [
    "# load modules\n",
    "\n",
    "# uncomment for debugging\n",
    "%load_ext autoreload \n",
    "%autoreload 2 \n",
    "\n",
    "import os, sys, inspect\n",
    "import matplotlib.pylab as plt\n",
    "import numpy as np\n",
    "import pandas as pd\n",
    "import h5py\n",
    "from pprint import pprint\n",
    "import time\n",
    "\n",
    "\n",
    "# Add source code directory (src) to path to enable module import\n",
    "curr_frame = inspect.getfile(inspect.currentframe())\n",
    "curr_dir = os.path.dirname(os.path.abspath(curr_frame))\n",
    "parent_dir = os.path.dirname(curr_dir)\n",
    "module_dir = os.path.join(parent_dir, 'src')\n",
    "os.sys.path.insert(0, module_dir)\n",
    "\n",
    "import cellprofiler_tools as cpt\n"
   ]
  },
  {
   "cell_type": "code",
   "execution_count": null,
   "metadata": {
    "scrolled": true
   },
   "outputs": [],
   "source": [
    "# Load test data\n",
    "# Path to raw HDF5 file\n",
    "data_dir = '../data/processed/CellProfiler_IRE1clusters_test'\n",
    "file_name = 'ClusterQuant__1.h5'\n",
    "full_file = os.path.join(data_dir, file_name)\n",
    "\n",
    "\n",
    "#df = cpt.get_data_cp_hdf5(full_file, obj='Image',data_fields=[])\n",
    "\n",
    "df_rel = cpt.get_relationship_cp_hdf5(full_file, \"ER_masks_filtered\", \"IRE1_clusters\")\n",
    "\n",
    "\n",
    "#print(df[['ImageNumber','ObjectNumber', 'AreaShape_Area']])\n",
    "#print(df)\n",
    "print(df_rel)\n"
   ]
  },
  {
   "cell_type": "code",
   "execution_count": null,
   "metadata": {},
   "outputs": [],
   "source": [
    "\"\"\"\n",
    "# Uncomment for a quick timer\n",
    "start = time.time()\n",
    "print(\"Start timer\")\n",
    "\n",
    "end = time.time()\n",
    "print(end - start)\n",
    "\"\"\""
   ]
  }
 ],
 "metadata": {
  "anaconda-cloud": {},
  "kernelspec": {
   "display_name": "Python [default]",
   "language": "python",
   "name": "python3"
  },
  "language_info": {
   "codemirror_mode": {
    "name": "ipython",
    "version": 3
   },
   "file_extension": ".py",
   "mimetype": "text/x-python",
   "name": "python",
   "nbconvert_exporter": "python",
   "pygments_lexer": "ipython3",
   "version": "3.5.6"
  }
 },
 "nbformat": 4,
 "nbformat_minor": 2
}
