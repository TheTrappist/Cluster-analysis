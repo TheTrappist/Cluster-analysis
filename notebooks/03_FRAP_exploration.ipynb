{
 "cells": [
  {
   "cell_type": "markdown",
   "metadata": {
    "collapsed": true
   },
   "source": [
    "This is a testing notebook for plotting and fitting FRAP data, using the output of the TrackMate plugin to plot the intensity of a diffusing spot and the output of my \"save_background.py\" ImageJ script for ROI-based background correction."
   ]
  },
  {
   "cell_type": "code",
   "execution_count": null,
   "metadata": {
    "collapsed": false
   },
   "outputs": [],
   "source": [
    "# load the custom modules\n",
    "\n",
    "%load_ext autoreload # uncomment for debugging\n",
    "%autoreload 2 # uncomment for debugging\n",
    "\n",
    "import os, sys, inspect\n",
    "import matplotlib.pylab as plt\n",
    "import numpy as np\n",
    "from pprint import pprint\n",
    "\n",
    "# Add source code directory (src) to path to enable module import\n",
    "curr_frame = inspect.getfile(inspect.currentframe())\n",
    "curr_dir = os.path.dirname(os.path.abspath(curr_frame))\n",
    "parent_dir = os.path.dirname(curr_dir)\n",
    "module_dir = os.path.join(parent_dir, 'src')\n",
    "os.sys.path.insert(0, module_dir)\n",
    "\n",
    "import parse_trackmate as pt\n",
    "import fraptools as frap\n"
   ]
  },
  {
   "cell_type": "code",
   "execution_count": null,
   "metadata": {
    "collapsed": false,
    "scrolled": true
   },
   "outputs": [],
   "source": [
    "# Load test data\n",
    "\n",
    "# Path to raw TrackMate data\n",
    "data_dir = '../data/raw/test_data_2_FRAP'\n",
    "file_name = '20170502-02_cell_00_spot01.xml'\n",
    "full_file = os.path.join(data_dir, file_name)\n",
    "\n",
    "# Path to background correction json file\n",
    "bkgnd_file_name = '20170502-02_cell_00.json'\n",
    "bkgnd_full_file = os.path.join(data_dir, bkgnd_file_name)\n",
    "\n",
    "# Read data from the provided source files\n",
    "raw_data = pt.read_trackmate_file(full_file)\n",
    "bkgnd_data = frap.read_ij_intensity(bkgnd_full_file)\n"
   ]
  },
  {
   "cell_type": "code",
   "execution_count": null,
   "metadata": {
    "collapsed": false
   },
   "outputs": [],
   "source": [
    "# Parse the data into tracks, creating lists of spots that\n",
    "# make up each individual track \n",
    "\n",
    "raw_tracks = pt.get_raw_tracks(raw_data)\n",
    "spots = pt.list_spots(raw_data)\n",
    "processed_tracks = pt.build_spot_lists_by_track(raw_tracks, spots)\n",
    "track_coords, track_edges, track_spot_ids = processed_tracks\n",
    "\n",
    "# Get intensity values for each frame of each track\n",
    "all_track_intensities = pt.pull_property_by_track('MEAN_INTENSITY',\n",
    "                                               track_spot_ids, spots)\n",
    "\n",
    "# Check that spot radii are constant (otherwise comparison of \n",
    "# mean intensities is meaningless)\n",
    "all_spot_radii = pt.pull_property_by_track('RADIUS',\n",
    "                                            track_spot_ids, spots)\n",
    "radii_norm = np.ravel(all_spot_radii - all_spot_radii[0])\n",
    "diff_radii = np.count_nonzero(radii_norm)\n",
    "if diff_radii > 0: print('WARNING: spot sizes are not uniform')\n",
    "\n",
    "(bkgnd_int, bkgnd_corr_int) = frap.correct_background (bkgnd_data, \n",
    "                                track_coords, all_track_intensities)\n"
   ]
  },
  {
   "cell_type": "code",
   "execution_count": null,
   "metadata": {
    "collapsed": false
   },
   "outputs": [],
   "source": [
    "# Fit corrected intensities to FRAP recovery curves and plot results\n",
    "%matplotlib\n",
    "\n",
    "# Input frame interval\n",
    "frame_interval = 0.2 # in seconds\n",
    "bleach_n_frames = 2 # how many frames bleaching takes\n",
    "\n",
    "# Fit data\n",
    "(fit, data) = frap.fit_frap(bkgnd_corr_int, frame_interval, bleach_n_frames)\n",
    "\n",
    "# Plot results\n",
    "for f,d in zip(fit, data):\n",
    "    frap.plot_fit_results(f,d)\n",
    "    plt.show()"
   ]
  },
  {
   "cell_type": "code",
   "execution_count": null,
   "metadata": {
    "collapsed": false
   },
   "outputs": [],
   "source": [
    "# Plot results\n",
    "\n",
    "#%matplotlib inline\n",
    "import matplotlib.pylab as plt\n",
    "#plt.xkcd()\n",
    "\n",
    "# Various plotting tools\n",
    "f2, axarr = plt.subplots(1,3, sharey=True)\n",
    "axarr[0].set_title('Raw intensity values')\n",
    "axarr[0].set_xlabel('Frame')\n",
    "axarr[0].set_ylabel('Intensity (A.U.)')\n",
    "axarr[1].set_xlabel('Frame')\n",
    "axarr[1].set_ylabel('Corrected intensity (A.U.)')\n",
    "axarr[1].set_title('Corrected intensity values')\n",
    "axarr[2].set_xlabel('Frame')\n",
    "axarr[2].set_ylabel('Background intensity (A.U.)')\n",
    "axarr[2].set_title('Background intensity values')\n",
    "for i, track in enumerate(track_coords):\n",
    "    axarr[0].plot(track[:,2], all_track_intensities[i])\n",
    "    axarr[1].plot(track[:,2], bkgnd_corr_int[i])\n",
    "    axarr[2].plot(track[:,2], bkgnd_int[i])\n",
    "plt.show()\n",
    "#plt.plot(track_coords[testind][:,2], all_track_intensities[testind])"
   ]
  }
 ],
 "metadata": {
  "anaconda-cloud": {},
  "kernelspec": {
   "display_name": "Python [default]",
   "language": "python",
   "name": "python3"
  },
  "language_info": {
   "codemirror_mode": {
    "name": "ipython",
    "version": 3
   },
   "file_extension": ".py",
   "mimetype": "text/x-python",
   "name": "python",
   "nbconvert_exporter": "python",
   "pygments_lexer": "ipython3",
   "version": "3.5.2"
  }
 },
 "nbformat": 4,
 "nbformat_minor": 2
}
