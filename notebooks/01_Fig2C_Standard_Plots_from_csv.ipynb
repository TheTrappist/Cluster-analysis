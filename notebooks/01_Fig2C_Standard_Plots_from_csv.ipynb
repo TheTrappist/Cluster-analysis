{
 "cells": [
  {
   "cell_type": "markdown",
   "metadata": {
    "collapsed": true
   },
   "source": [
    "Figure(s) in the manuscript created by this notebook: Fig.2C.\n",
    "\n",
    "This notebook extracts tabulated data from CSV files (e.g. gel quantification data) and plots results in a format that's consistent with the other Python-generated plots in the paper. Specifically, the data plotted here represent the quantification of a gel-based XBP1 splicing assay."
   ]
  },
  {
   "cell_type": "code",
   "execution_count": null,
   "metadata": {},
   "outputs": [],
   "source": [
    "# User-defined parameters for analysis:\n",
    "\n",
    "# Plotting and figure saving params\n",
    "save_figs = True\n",
    "save_dir = '../reports/figures/Fig2C_Plots_From_csv'\n",
    "plot_settings = '../src/plotting_settings.py'\n",
    "\n",
    "# Source data location\n",
    "data_dir = '../data/processed/Fig2C_Gel_quantification'\n",
    "xbp1_spliced_filename = 'XBP1_splicing_rawData_01.csv'\n"
   ]
  },
  {
   "cell_type": "code",
   "execution_count": null,
   "metadata": {},
   "outputs": [],
   "source": [
    "# load modules\n",
    "\n",
    "# uncomment the following block for debugging\n",
    "\"\"\"\n",
    "%load_ext autoreload\n",
    "%autoreload 2\n",
    "%matplotlib inline\n",
    "from IPython.core.debugger import set_trace\n",
    "\"\"\"\n",
    "\n",
    "import os, sys, inspect\n",
    "import matplotlib\n",
    "import matplotlib.pylab as plt\n",
    "import numpy as np\n",
    "import pandas as pd\n",
    "from scipy import stats\n",
    "import seaborn as sns"
   ]
  },
  {
   "cell_type": "code",
   "execution_count": null,
   "metadata": {},
   "outputs": [],
   "source": [
    "# Set up figure save dirs and load plotting style\n",
    "if save_figs:\n",
    "    %matplotlib\n",
    "    %run $plot_settings save\n",
    "    \n",
    "    # Make directory for saving figures\n",
    "    save_dir_pdf = os.path.join(save_dir, 'pdf')\n",
    "    if not os.path.exists(save_dir_pdf):\n",
    "        os.makedirs(save_dir_pdf)\n",
    "else:\n",
    "    %matplotlib inline\n",
    "    %run $plot_settings plot_only"
   ]
  },
  {
   "cell_type": "code",
   "execution_count": null,
   "metadata": {
    "scrolled": true
   },
   "outputs": [],
   "source": [
    "# Load XBP1 splicing data\n",
    "xbp1s_full_file = os.path.join(data_dir, xbp1_spliced_filename)\n",
    "\n",
    "xbp1s_raw = pd.read_csv(xbp1s_full_file)\n",
    "\n",
    "print('Loaded')"
   ]
  },
  {
   "cell_type": "code",
   "execution_count": null,
   "metadata": {},
   "outputs": [],
   "source": [
    "# Assemble the XBP1 splicing data into an organized, background-corrected\n",
    "# dataframe called \"samples\"\n",
    "\n",
    "sample_IDs = xbp1s_raw['Sample'].unique()\n",
    "\n",
    "samples = pd.DataFrame(data=sample_IDs, columns=['sample_ID'])\n",
    "\n",
    "gels = xbp1s_raw['File_name'].unique()\n",
    "\n",
    "# Apply background correction\n",
    "for sample_ID in sample_IDs:\n",
    "    sample_data = xbp1s_raw[xbp1s_raw['Sample'] == sample_ID]\n",
    "    \n",
    "    i_spliced_bc = []\n",
    "    i_unspliced_bc = []\n",
    "    for gel in gels:\n",
    "        gel_data = sample_data[sample_data['File_name'] == gel]\n",
    "        \n",
    "        s = gel_data.loc[gel_data['Band'] == 'spliced', 'Mean'].item()\n",
    "        u = gel_data.loc[gel_data['Band'] == 'unspliced', 'Mean'].item()\n",
    "        b = gel_data.loc[gel_data['Band'] == 'bkgnd', 'Mean'].item()\n",
    "        \n",
    "        #apply background correction\n",
    "        i_spliced_bc.append(s-b)\n",
    "        i_unspliced_bc.append(u-b)\n",
    "    \n",
    "    # calculate spliced/unspliced ratios and stats for this sample\n",
    "    i_s = np.asarray(i_spliced_bc)\n",
    "    i_u = np.asarray(i_unspliced_bc)\n",
    "    spliced_frac = np.divide (i_s, (i_s + i_u))\n",
    "    s_over_u = np.divide (i_s, i_u)\n",
    "    \n",
    "    sf_mean = np.mean(spliced_frac)\n",
    "    sf_std = np.std(spliced_frac)\n",
    "    \n",
    "    su_mean = np.mean(s_over_u)\n",
    "    su_std = np.std(s_over_u)\n",
    "    \n",
    "    sample_row = samples['sample_ID'] == sample_ID\n",
    "    samples.at[sample_row, 'spliced_frac'] = sf_mean\n",
    "    samples.at[sample_row, 'spliced_frac_std'] = sf_std\n",
    "    samples.at[sample_row, 's_over_u'] = su_mean\n",
    "    samples.at[sample_row, 's_over_u_std'] = su_std\n",
    "        \n",
    "#print(samples)\n",
    "\n",
    "\n",
    "# Plot summary\n",
    "data_to_plot = samples\n",
    "\n",
    "x = data_to_plot['sample_ID']\n",
    "y = data_to_plot['spliced_frac']\n",
    "yerr = data_to_plot['spliced_frac_std']\n",
    "\n",
    "ax = sns.barplot(x=x, y=y, yerr=yerr,  color='steelblue')\n",
    "plt.show()\n"
   ]
  },
  {
   "cell_type": "code",
   "execution_count": null,
   "metadata": {
    "scrolled": true
   },
   "outputs": [],
   "source": [
    "# Plot specific columns\n",
    "excluded_samples = ['BT1-2C1', 'BT1-3A1', 'BT1-3A2', 'BT1-3A3', 'BT1-3A4','BT1-3B1',\n",
    " 'BT1-3B2', 'BT1-3B3', 'BT1-3B4', 'BT1-2C2', 'BT1-3C1', 'BT1-3C2', 'BT1-3C3',\n",
    " 'BT1-3C4']\n",
    "\n",
    "sample_rows_plot = ~samples['sample_ID'].isin(excluded_samples)\n",
    "data_to_plot = samples.loc[sample_rows_plot]\n",
    "\n",
    "x = data_to_plot['sample_ID']\n",
    "y = data_to_plot['s_over_u']\n",
    "yerr = data_to_plot['s_over_u_std']\n",
    "\n",
    "fig, ax1 = plt.subplots()\n",
    "fig.tight_layout(pad=2)\n",
    "\n",
    "ax1 = sns.barplot(x=x, y=y, color='steelblue', yerr=yerr)\n",
    "\n",
    "ax1.set_ylabel('XBP1s/XBP1u')\n",
    "\n",
    "if save_figs:\n",
    "    fig_filename_pdf = os.path.join(save_dir_pdf, 'XBP1s_XBP1u_fraction.pdf')\n",
    "    plt.savefig(fig_filename_pdf)\n",
    "    plt.show()\n"
   ]
  },
  {
   "cell_type": "code",
   "execution_count": null,
   "metadata": {
    "scrolled": true
   },
   "outputs": [],
   "source": [
    "# Plot specific columns\n",
    "excluded_samples = ['BT1-2C1', 'BT1-2A1', 'BT1-2A2', 'BT1-2A3', 'BT1-2A4', 'BT1-2B1', 'BT1-2B2',\n",
    " 'BT1-2B3', 'BT1-2B4','BT1-3B1',\n",
    " 'BT1-3B2', 'BT1-3B3', 'BT1-3B4', 'BT1-2C2', 'BT1-3C1', 'BT1-3C2', 'BT1-3C3',\n",
    " 'BT1-3C4']\n",
    "\n",
    "sample_rows_plot = ~samples['sample_ID'].isin(excluded_samples)\n",
    "data_to_plot = samples.loc[sample_rows_plot]\n",
    "\n",
    "x = data_to_plot['sample_ID']\n",
    "y = data_to_plot['s_over_u']\n",
    "yerr = data_to_plot['s_over_u_std']\n",
    "\n",
    "fig, ax2 = plt.subplots()\n",
    "fig.tight_layout(pad=2)\n",
    "\n",
    "ax2 = sns.barplot(x=x, y=y, color='steelblue', yerr=yerr)\n",
    "\n",
    "ax2.set_ylabel('XBP1s/XBP1u')\n",
    "\n",
    "if save_figs:\n",
    "    fig_filename_pdf = os.path.join(save_dir_pdf, 'XBP1s_XBP1u_fraction_WT_only.pdf')\n",
    "    plt.savefig(fig_filename_pdf)\n",
    "    plt.show()\n"
   ]
  }
 ],
 "metadata": {
  "anaconda-cloud": {},
  "kernelspec": {
   "display_name": "Python [default]",
   "language": "python",
   "name": "python3"
  },
  "language_info": {
   "codemirror_mode": {
    "name": "ipython",
    "version": 3
   },
   "file_extension": ".py",
   "mimetype": "text/x-python",
   "name": "python",
   "nbconvert_exporter": "python",
   "pygments_lexer": "ipython3",
   "version": "3.5.6"
  }
 },
 "nbformat": 4,
 "nbformat_minor": 2
}
