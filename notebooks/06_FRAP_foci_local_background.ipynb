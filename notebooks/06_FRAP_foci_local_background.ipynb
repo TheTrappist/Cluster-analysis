{
 "cells": [
  {
   "cell_type": "markdown",
   "metadata": {
    "collapsed": true
   },
   "source": [
    "This notebook loads cluster FRAP data from the output of the \"Extract_two_radii_TrackMate.ijm\" ImageJ macro, then plots and fits the FRAP data."
   ]
  },
  {
   "cell_type": "code",
   "execution_count": null,
   "metadata": {
    "collapsed": false
   },
   "outputs": [],
   "source": [
    "# load the built-in and custom modules\n",
    "\n",
    "# uncomment for debugging\n",
    "%load_ext autoreload \n",
    "%autoreload 2 \n",
    "\n",
    "import os, sys, inspect\n",
    "import matplotlib.pylab as plt\n",
    "import numpy as np\n",
    "from pprint import pprint\n",
    "import glob\n",
    "import pandas as pd\n",
    "\n",
    "\n",
    "# Add source code directory (src) to path to enable module import\n",
    "curr_frame = inspect.getfile(inspect.currentframe())\n",
    "curr_dir = os.path.dirname(os.path.abspath(curr_frame))\n",
    "parent_dir = os.path.dirname(curr_dir)\n",
    "module_dir = os.path.join(parent_dir, 'src')\n",
    "os.sys.path.insert(0, module_dir)\n",
    "\n",
    "# import fraptools\n",
    "import fraptools as frap\n"
   ]
  },
  {
   "cell_type": "code",
   "execution_count": null,
   "metadata": {
    "collapsed": false
   },
   "outputs": [],
   "source": [
    "# Load data\n",
    "\n",
    "# Path to FRAP data (text files saved by \"Extract_two_radii_TrackMate.ijm\")\n",
    "data_dir = '../data/processed/IRE1_foci_FRAP_2018-10-11/spot_radii'\n",
    "\n",
    "frap_files = sorted(glob.glob(os.path.join(data_dir,'*.txt')))\n",
    "\n",
    "# list of all FRAP data:\n",
    "frap_data_by_file = []\n",
    "filenames_no_ext = []\n",
    "\n",
    "# Go file by file and read data\n",
    "for file in frap_files:\n",
    "    \n",
    "    # Read data from the provided source file\n",
    "    data = pd.read_csv(file, delimiter='\\t')\n",
    "    filename_no_ext = os.path.split(os.path.splitext(file)[0])[1]\n",
    "    frap_data_by_file.append(data)\n",
    "    filenames_no_ext.append(filename_no_ext)\n"
   ]
  },
  {
   "cell_type": "code",
   "execution_count": null,
   "metadata": {
    "collapsed": false
   },
   "outputs": [],
   "source": [
    "# Analyze and plot the foci FRAP data\n",
    "# Plotting and figure saving params\n",
    "plot_figs = True\n",
    "save_figs = True\n",
    "save_dir = '../reports/figures/IRE1_foci_FRAP_2018-10-11'\n",
    "\n",
    "# The excluded trace file allows you to manually remove bad traces from the analysis.\n",
    "# It should be a simple csv with each line containing the file name followed by trace ID\n",
    "excluded_trace_file = '../data/processed/IRE1_foci_FRAP_2018-10-11/2018-10-11_excluded_traces.csv'\n",
    "\n",
    "# Input imaging parameters:\n",
    "frame_interval = 5 # in seconds #0.2\n",
    "bleach_n_frames = 8 # how many frames bleaching takes (max)\n",
    "\n",
    "\n",
    "# interactive plotting\n",
    "if plot_figs: \n",
    "    %matplotlib    \n",
    "    \n",
    "\n",
    "# Populate excluded trace file\n",
    "excluded_files_df = pd.read_csv(excluded_trace_file)\n",
    "excluded_traces = [tuple(x) for x in excluded_files_df.values]\n",
    "\n",
    "# create save figure dirs\n",
    "if save_figs:\n",
    "    save_dir_png = os.path.join(save_dir, 'png')\n",
    "    save_dir_svg = os.path.join(save_dir, 'svg')\n",
    "    if not os.path.exists(save_dir_png):\n",
    "        os.makedirs(save_dir_png)\n",
    "    if not os.path.exists(save_dir_svg):\n",
    "        os.makedirs(save_dir_svg)\n",
    "\n",
    "        \n",
    "# Extract individual traces from the raw data\n",
    "df_by_trace, corr_ints, trace_IDs = frap.get_traces_from_df_list(frap_data_by_file, \n",
    "                                    filenames_no_ext, exclude=excluded_traces)\n",
    "\n",
    "# Fit the individual FRAP traces\n",
    "fit, data = frap.fit_frap_smart(corr_ints, frame_interval, bleach_n_frames)\n",
    "\n",
    "    \n",
    "# Plot results\n",
    "\n",
    "for f,d,trace_ID in zip(fit, data, trace_IDs):\n",
    "    \n",
    "    file_name = trace_ID[0]\n",
    "    trace_num = trace_ID[1]\n",
    "    \n",
    "    full_name = file_name + '_trace-ID_' + str(trace_num)\n",
    "    \n",
    "    fig, axarr = frap.plot_fit_results(f,d)\n",
    "    fig.canvas.set_window_title(full_name)\n",
    "    plt.suptitle(full_name)\n",
    "    if save_figs:\n",
    "        fig_filename_svg = os.path.join(save_dir_svg, (full_name+'.svg'))\n",
    "        fig_filename_png = os.path.join(save_dir_png, (full_name+'.png'))\n",
    "        plt.savefig(fig_filename_svg)\n",
    "        plt.savefig(fig_filename_png)\n"
   ]
  },
  {
   "cell_type": "code",
   "execution_count": null,
   "metadata": {
    "collapsed": false
   },
   "outputs": [],
   "source": [
    "# Summarize fit results\n",
    "save_dir = '../reports/figures/IRE1_foci_FRAP_2018-10-11/summary'\n",
    "# create save figure dirs\n",
    "if save_figs:\n",
    "    save_dir_png = os.path.join(save_dir, 'png')\n",
    "    save_dir_svg = os.path.join(save_dir, 'svg')\n",
    "    if not os.path.exists(save_dir_png):\n",
    "        os.makedirs(save_dir_png)\n",
    "    if not os.path.exists(save_dir_svg):\n",
    "        os.makedirs(save_dir_svg)\n",
    "\n",
    "%matplotlib\n",
    "\n",
    "frap_fits_foci = fit\n",
    "\n",
    "thalf_foci = [f['thalf'] for f in frap_fits_foci]\n",
    "\n",
    "mobile_f_foci = [f['mobile_fraction'] for f in frap_fits_foci]   \n",
    "#thalf_er = [f['thalf'] for f in frap_fits_er]\n",
    "#mobile_f_er = [f['mobile_fraction'] for f in frap_fits_er]   \n",
    "\n",
    "#print(np.mean(thalf_foci), np.mean(mobile_f_foci))\n",
    "#print(np.mean(thalf_er), np.mean(mobile_f_er))\n",
    "\n",
    "labels = ('Foci')\n",
    "\n",
    "plt.rcParams[\"figure.figsize\"] = [20,8]\n",
    "f2, axarr = plt.subplots(1,3, sharey=False)\n",
    "axarr[0].set_title('Half-time of recovery')\n",
    "axarr[0].set_ylabel('Time (s)')\n",
    "axarr[1].set_ylabel('Mobile fraction')\n",
    "axarr[1].set_title('IRE1 Mobile fraction')\n",
    "axarr[0].boxplot(thalf_foci)\n",
    "axarr[1].boxplot(mobile_f_foci)\n",
    "\n",
    "if save_figs:\n",
    "    fig_filename_svg = os.path.join(save_dir_svg, 'Foci_IRE1_recovery.svg')\n",
    "    fig_filename_png = os.path.join(save_dir_png, 'Foci_IRE1_recovery.png')\n",
    "    plt.savefig(fig_filename_svg)\n",
    "    plt.savefig(fig_filename_png)\n",
    "\n",
    "plt.show()"
   ]
  }
 ],
 "metadata": {
  "anaconda-cloud": {},
  "kernelspec": {
   "display_name": "Python [default]",
   "language": "python",
   "name": "python3"
  },
  "language_info": {
   "codemirror_mode": {
    "name": "ipython",
    "version": 3
   },
   "file_extension": ".py",
   "mimetype": "text/x-python",
   "name": "python",
   "nbconvert_exporter": "python",
   "pygments_lexer": "ipython3",
   "version": "3.5.2"
  }
 },
 "nbformat": 4,
 "nbformat_minor": 2
}
